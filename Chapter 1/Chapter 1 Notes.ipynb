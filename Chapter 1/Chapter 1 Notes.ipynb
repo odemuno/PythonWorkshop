{
 "cells": [
  {
   "cell_type": "markdown",
   "id": "ad7329e9",
   "metadata": {},
   "source": [
    "# Chapter 1: Math, Strings, Conditionals, Loops\n",
    "\n",
    "How to write basic Python programs and outlines fundamentals of the Python language."
   ]
  },
  {
   "cell_type": "code",
   "execution_count": 2,
   "id": "f510dcc6",
   "metadata": {},
   "outputs": [
    {
     "name": "stdout",
     "output_type": "stream",
     "text": [
      "Collecting package metadata (current_repodata.json): done\n",
      "Solving environment: done\n",
      "\n",
      "## Package Plan ##\n",
      "\n",
      "  environment location: /Users/odemunoogelohwohor/opt/anaconda3\n",
      "\n",
      "  added / updated specs:\n",
      "    - matplotlib\n",
      "    - numpy\n",
      "    - seaborn\n",
      "\n",
      "\n",
      "The following packages will be downloaded:\n",
      "\n",
      "    package                    |            build\n",
      "    ---------------------------|-----------------\n",
      "    ca-certificates-2022.3.29  |       hecd8cb5_1         122 KB\n",
      "    conda-4.12.0               |   py38hecd8cb5_0        14.5 MB\n",
      "    openssl-1.1.1n             |       hca72f7f_0         2.2 MB\n",
      "    ------------------------------------------------------------\n",
      "                                           Total:        16.8 MB\n",
      "\n",
      "The following packages will be UPDATED:\n",
      "\n",
      "  ca-certificates                     2021.10.26-hecd8cb5_2 --> 2022.3.29-hecd8cb5_1\n",
      "  conda                               4.11.0-py38hecd8cb5_0 --> 4.12.0-py38hecd8cb5_0\n",
      "  openssl                                 1.1.1m-hca72f7f_0 --> 1.1.1n-hca72f7f_0\n",
      "\n",
      "\n",
      "\n",
      "Downloading and Extracting Packages\n",
      "ca-certificates-2022 | 122 KB    | ##################################### | 100% \n",
      "openssl-1.1.1n       | 2.2 MB    | ##################################### | 100% \n",
      "conda-4.12.0         | 14.5 MB   | ##################################### | 100% \n",
      "Preparing transaction: done\n",
      "Verifying transaction: done\n",
      "Executing transaction: done\n",
      "\n",
      "Note: you may need to restart the kernel to use updated packages.\n"
     ]
    }
   ],
   "source": [
    "conda install matplotlib seaborn numpy"
   ]
  },
  {
   "cell_type": "markdown",
   "id": "ade0c480",
   "metadata": {},
   "source": [
    "## Python as a Calculator"
   ]
  },
  {
   "cell_type": "code",
   "execution_count": 6,
   "id": "25478df3",
   "metadata": {},
   "outputs": [
    {
     "name": "stdout",
     "output_type": "stream",
     "text": [
      "['False', 'None', 'True', 'and', 'as', 'assert', 'async', 'await', 'break', 'class', 'continue', 'def', 'del', 'elif', 'else', 'except', 'finally', 'for', 'from', 'global', 'if', 'import', 'in', 'is', 'lambda', 'nonlocal', 'not', 'or', 'pass', 'raise', 'return', 'try', 'while', 'with', 'yield']\n"
     ]
    }
   ],
   "source": [
    "# View the current list of Python keywords\n",
    "import keyword\n",
    "print(keyword.kwlist)"
   ]
  },
  {
   "cell_type": "code",
   "execution_count": 6,
   "id": "409de943",
   "metadata": {},
   "outputs": [
    {
     "data": {
      "text/plain": [
       "'\\nThis document will explore why commments are particularly useful\\nwhen writing and reading code.\\n'"
      ]
     },
     "execution_count": 6,
     "metadata": {},
     "output_type": "execute_result"
    }
   ],
   "source": [
    "# Docstrings: state what a given document (program, function, class) does\n",
    "\"\"\"\n",
    "This document will explore why commments are particularly useful\n",
    "when writing and reading code.\n",
    "\"\"\""
   ]
  },
  {
   "cell_type": "markdown",
   "id": "932400cc",
   "metadata": {},
   "source": [
    "### Activity 2: Pythagorean Theorem"
   ]
  },
  {
   "cell_type": "code",
   "execution_count": 7,
   "id": "49e5ce82",
   "metadata": {},
   "outputs": [
    {
     "name": "stdout",
     "output_type": "stream",
     "text": [
      "5.385164807134504\n"
     ]
    }
   ],
   "source": [
    "\"\"\"\n",
    "In this section, we will determine the Pythagorean distance between three points.\n",
    "\"\"\"\n",
    "import math\n",
    "\n",
    "# initialize variables\n",
    "x, y, z = 2, 3, 4\n",
    "\n",
    "# clculate distance in 3D\n",
    "distance = math.sqrt(x**2 + y**2 + z**2)\n",
    "print(distance)"
   ]
  },
  {
   "cell_type": "markdown",
   "id": "a0bf0acd-d238-4837-9be4-21d4e4f89452",
   "metadata": {},
   "source": [
    "## String Interpolation"
   ]
  },
  {
   "cell_type": "code",
   "execution_count": 8,
   "id": "1431e55d-4be3-4c51-a030-72dcd8afd78a",
   "metadata": {},
   "outputs": [
    {
     "name": "stdout",
     "output_type": "stream",
     "text": [
      "HolaSenor\n",
      "Should we greet people with Hola in Spain?\n"
     ]
    }
   ],
   "source": [
    "spanish_greeting = \"Hola\"\n",
    "print(spanish_greeting + \"Senor\") # add will join clauses\n",
    "print(\"Should we greet people with\", spanish_greeting, \"in Spain?\") # commas will seperate clauses"
   ]
  },
  {
   "cell_type": "code",
   "execution_count": 9,
   "id": "2c160a47-bb50-428d-9f79-cf92b53d0cd0",
   "metadata": {},
   "outputs": [
    {
     "name": "stdout",
     "output_type": "stream",
     "text": [
      "The founder of munoxtech, Muno, is now 21 years old.\n"
     ]
    }
   ],
   "source": [
    "# format \n",
    "owner = \"Muno\"\n",
    "age = 21\n",
    "print(\"The founder of munoxtech, {}, is now {} years old.\" .format(owner, age))"
   ]
  },
  {
   "cell_type": "code",
   "execution_count": 10,
   "id": "4cace86b-9dce-4efe-8c88-10175572453d",
   "metadata": {},
   "outputs": [
    {
     "data": {
      "text/plain": [
       "'Muno'"
      ]
     },
     "execution_count": 10,
     "metadata": {},
     "output_type": "execute_result"
    }
   ],
   "source": [
    "name = \"muno\"\n",
    "name.capitalize() # these are called methods"
   ]
  },
  {
   "cell_type": "code",
   "execution_count": 11,
   "id": "9a3e9c90-aaf8-4587-be73-94e01d3c0226",
   "metadata": {},
   "outputs": [
    {
     "data": {
      "text/plain": [
       "'muno'"
      ]
     },
     "execution_count": 11,
     "metadata": {},
     "output_type": "execute_result"
    }
   ],
   "source": [
    "name.casefold()"
   ]
  },
  {
   "cell_type": "code",
   "execution_count": 12,
   "id": "a62620c2-2436-44c4-873e-e2d9171161ed",
   "metadata": {},
   "outputs": [
    {
     "data": {
      "text/plain": [
       "1"
      ]
     },
     "execution_count": 12,
     "metadata": {},
     "output_type": "execute_result"
    }
   ],
   "source": [
    "name.count('o')"
   ]
  },
  {
   "cell_type": "code",
   "execution_count": 16,
   "id": "fbd3cbbf-0f3b-4492-9e95-0cf23461e1fb",
   "metadata": {},
   "outputs": [
    {
     "name": "stdout",
     "output_type": "stream",
     "text": [
      "what is your name?\n"
     ]
    },
    {
     "name": "stdin",
     "output_type": "stream",
     "text": [
      " Prudence\n"
     ]
    }
   ],
   "source": [
    "# input function\n",
    "print(\"what is your name?\")\n",
    "name = input()"
   ]
  },
  {
   "cell_type": "code",
   "execution_count": 19,
   "id": "0e488efc-5223-43c3-933f-5d83db0efa69",
   "metadata": {},
   "outputs": [
    {
     "name": "stdout",
     "output_type": "stream",
     "text": [
      "Hello, Prudence.\n"
     ]
    }
   ],
   "source": [
    "print(\"Hello, \" + name + \".\")"
   ]
  },
  {
   "cell_type": "markdown",
   "id": "73105e1f-139a-4579-b41d-a0e30317ec66",
   "metadata": {},
   "source": [
    "### Activity 3: Use input() function to rate your day"
   ]
  },
  {
   "cell_type": "code",
   "execution_count": 20,
   "id": "b28dc9ae-21eb-4e48-9ce1-58f212dce4b6",
   "metadata": {},
   "outputs": [
    {
     "name": "stdout",
     "output_type": "stream",
     "text": [
      "Please rate your day on the scale of 1-10:\n"
     ]
    },
    {
     "name": "stdin",
     "output_type": "stream",
     "text": [
      " 6\n"
     ]
    },
    {
     "name": "stdout",
     "output_type": "stream",
     "text": [
      "You have rated your day a 6 out of 10.\n"
     ]
    }
   ],
   "source": [
    "print(\"Please rate your day on the scale of 1-10:\")\n",
    "rating = input()\n",
    "print(\"You have rated your day a \" + rating + \" out of 10.\")"
   ]
  },
  {
   "cell_type": "markdown",
   "id": "31ae199b-d295-4a56-bd6d-11ebc2ee3368",
   "metadata": {},
   "source": [
    "### Activity 4: Find the LCM using while loop"
   ]
  },
  {
   "cell_type": "code",
   "execution_count": 39,
   "id": "dba70fdc-03a4-40ec-9eb6-dcaf195d01fe",
   "metadata": {},
   "outputs": [
    {
     "name": "stdout",
     "output_type": "stream",
     "text": [
      "The LCM of 24 and 36 is 72\n"
     ]
    }
   ],
   "source": [
    "'''\n",
    "The LCM of divisors A and B is the first number X that both divisors can divide\n",
    "'''\n",
    "# initialize variables\n",
    "x, y = 24, 36\n",
    "i = 1\n",
    "\n",
    "# set while loop to something true by default\n",
    "while True:\n",
    "    if (i%x==0 and i%y==0): # check if iterator divides both numbers\n",
    "        break # break while loop when lcm is found\n",
    "    i+=1 # increment iterator\n",
    "\n",
    "# print result\n",
    "print(\"The LCM of 24 and 36 is \" + str(i))"
   ]
  },
  {
   "cell_type": "code",
   "execution_count": 43,
   "id": "453235e1-39d8-4dff-9b3d-2ca39051aa3b",
   "metadata": {},
   "outputs": [
    {
     "name": "stdout",
     "output_type": "stream",
     "text": [
      "Enter a number to see if it a perfect square:\n"
     ]
    },
    {
     "name": "stdin",
     "output_type": "stream",
     "text": [
      " 25\n"
     ]
    },
    {
     "name": "stdout",
     "output_type": "stream",
     "text": [
      "Your number 25 is a perfect square and the square root is: 5\n"
     ]
    }
   ],
   "source": [
    "'''\n",
    "Write a program to promt a user to enter a given number and find out whether it is a perfect square.\n",
    "'''\n",
    "\n",
    "print(\"Enter a number to see if it a perfect square:\")\n",
    "number = input()\n",
    "\n",
    "# initialize counter \n",
    "i = 0 # start from 0\n",
    "\n",
    "# if the number is negative\n",
    "number = abs(int(number))\n",
    "\n",
    "# increase counter and check with number\n",
    "while i <= number**0.5:\n",
    "    if i*i == number:\n",
    "        square = True\n",
    "        break\n",
    "    else:\n",
    "        square = False\n",
    "    i += 1\n",
    "\n",
    "# print appropriate response\n",
    "if square:\n",
    "    print(\"Your number\", number, \"is a perfect square and the square root is:\", i)\n",
    "else:\n",
    "    print(\"Your number\", number, \"is NOT a perfect square.\")\n"
   ]
  },
  {
   "cell_type": "code",
   "execution_count": 46,
   "id": "b0294323-3534-4fbf-b1d7-32d25f48ff86",
   "metadata": {},
   "outputs": [
    {
     "name": "stdout",
     "output_type": "stream",
     "text": [
      "A one bedroom in the Bay Area is listed at $599,000\n",
      "Enter your first offer on the house.\n"
     ]
    },
    {
     "name": "stdin",
     "output_type": "stream",
     "text": [
      " 500000\n"
     ]
    },
    {
     "name": "stdout",
     "output_type": "stream",
     "text": [
      "Enter your best offer on the house.\n"
     ]
    },
    {
     "name": "stdin",
     "output_type": "stream",
     "text": [
      " 700000\n"
     ]
    },
    {
     "name": "stdout",
     "output_type": "stream",
     "text": [
      "How much more do you want to offer each time?\n"
     ]
    },
    {
     "name": "stdin",
     "output_type": "stream",
     "text": [
      " 33000\n"
     ]
    },
    {
     "name": "stdout",
     "output_type": "stream",
     "text": [
      "We're sorry, your offer of 500000 has not been accepted.\n",
      "We're sorry, your offer of 533000 has not been accepted.\n",
      "We're sorry, your offer of 566000 has not been accepted.\n",
      "We're sorry, your offer of 599000 has not been accepted.\n",
      "We're sorry, your offer of 632000 has not been accepted.\n",
      "Your offer of 665000 has been accepted.\n"
     ]
    }
   ],
   "source": [
    "'''\n",
    "Prompt users to bid on a house and let them know when the bid has been accepted\n",
    "'''\n",
    "\n",
    "# state the market price\n",
    "print(\"A one bedroom in the Bay Area is listed at $599,000\")\n",
    "\n",
    "# prompt user to make an offer\n",
    "print(\"Enter your first offer on the house.\")\n",
    "offer = abs(int(input()))\n",
    "\n",
    "# prompt user to enter best offer on the house\n",
    "print(\"Enter your best offer on the house.\")\n",
    "best = abs(int(input()))\n",
    "\n",
    "# prompt user to choose increments\n",
    "print(\"How much more do you want to offer each time?\")\n",
    "increment = abs(int(input()))\n",
    "\n",
    "# loop\n",
    "offer_accepted = False\n",
    "\n",
    "while offer <= best:\n",
    "    if offer >= 650000: # this is our condition for them to get the house\n",
    "        offer_accepted = True\n",
    "        print(\"Your offer of\", offer, \"has been accepted.\")\n",
    "        break\n",
    "    else:\n",
    "        print(\"We're sorry, your offer of\", offer, \"has not been accepted.\")\n",
    "    offer += increment"
   ]
  },
  {
   "cell_type": "markdown",
   "id": "6d1b908a-728d-4e2e-93f5-02baab99c4e9",
   "metadata": {},
   "source": [
    "### Activity 5: Conversational Bots using nested conditionals"
   ]
  },
  {
   "cell_type": "code",
   "execution_count": 49,
   "id": "9f5eb6cd-12a6-4e4f-80be-bd0070959cf4",
   "metadata": {},
   "outputs": [
    {
     "name": "stdout",
     "output_type": "stream",
     "text": [
      "What is your name?\n"
     ]
    },
    {
     "name": "stdin",
     "output_type": "stream",
     "text": [
      " muno\n"
     ]
    },
    {
     "name": "stdout",
     "output_type": "stream",
     "text": [
      "What is your age?\n"
     ]
    },
    {
     "name": "stdin",
     "output_type": "stream",
     "text": [
      " 21\n"
     ]
    },
    {
     "name": "stdout",
     "output_type": "stream",
     "text": [
      "Wow! You look young for 21 , muno :)\n"
     ]
    }
   ],
   "source": [
    "'''\n",
    "The first bot asks the user 2 questions and include the user's answer in each of its follow-up responses.\n",
    "The second bot asks a question (scale 1-10) and different response for each number on the scale; repeat for Q2.\n",
    "'''\n",
    "\n",
    "# Bot 1\n",
    "# ask question 1\n",
    "print(\"What is your name?\")\n",
    "response1 = input()\n",
    "\n",
    "# ask question2\n",
    "print(\"What is your age?\")\n",
    "response2 = str(input()) # convert to string to be concatenated\n",
    "\n",
    "# include answers in follow up responses\n",
    "print(\"Wow! You look young for\", response2, \",\", response1, \":)\")"
   ]
  },
  {
   "cell_type": "code",
   "execution_count": 52,
   "id": "cbc7bed8-1489-466f-82f9-e00c69dfe079",
   "metadata": {},
   "outputs": [
    {
     "name": "stdout",
     "output_type": "stream",
     "text": [
      "On the scale of 1 to 10, with 10 being extremely, how hungry are you?\n"
     ]
    },
    {
     "name": "stdin",
     "output_type": "stream",
     "text": [
      " 6\n"
     ]
    },
    {
     "name": "stdout",
     "output_type": "stream",
     "text": [
      "are you getting hungry?\n"
     ]
    }
   ],
   "source": [
    "# Bot 2\n",
    "# ask question 1\n",
    "print(\"On the scale of 1 to 10, with 10 being extremely, how hungry are you?\")\n",
    "input1 = abs(int(input()))\n",
    "\n",
    "if input1==1:\n",
    "    print(\"you are starving\")\n",
    "elif input1==2:\n",
    "    print(\"wow, what would you like to eat?\")\n",
    "elif input1==3:\n",
    "    print(\"you need a lot of food\")\n",
    "elif input1==4:\n",
    "    print(\"eat a banana\")\n",
    "elif input1==5:\n",
    "    print(\"you should eat soon\")\n",
    "elif input1==6:\n",
    "    print(\"are you getting hungry?\")\n",
    "elif input1==7:\n",
    "    print(\"have a little snack\")\n",
    "elif input1==8:\n",
    "    print(\"what did you eat?\")\n",
    "elif input1==9:\n",
    "    print(\"oh wow! feeling energized?\")\n",
    "else:\n",
    "    print(\"amazing!!\")"
   ]
  },
  {
   "cell_type": "code",
   "execution_count": null,
   "id": "f0fe1893-5b46-44c5-9e07-f0f61fd94db4",
   "metadata": {},
   "outputs": [],
   "source": []
  }
 ],
 "metadata": {
  "kernelspec": {
   "display_name": "Python 3 (ipykernel)",
   "language": "python",
   "name": "python3"
  },
  "language_info": {
   "codemirror_mode": {
    "name": "ipython",
    "version": 3
   },
   "file_extension": ".py",
   "mimetype": "text/x-python",
   "name": "python",
   "nbconvert_exporter": "python",
   "pygments_lexer": "ipython3",
   "version": "3.8.8"
  }
 },
 "nbformat": 4,
 "nbformat_minor": 5
}
