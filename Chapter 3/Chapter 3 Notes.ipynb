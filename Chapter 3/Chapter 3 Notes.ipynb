{
 "cells": [
  {
   "cell_type": "markdown",
   "id": "655af3d5-3d58-4720-9c83-c98f9750ecf4",
   "metadata": {},
   "source": [
    "# Chapter 3: Executing Python - Programs, Algorithms, Functions"
   ]
  },
  {
   "cell_type": "code",
   "execution_count": null,
   "id": "80028847-97ea-4875-9c85-a54b16790a03",
   "metadata": {},
   "outputs": [],
   "source": []
  }
 ],
 "metadata": {
  "kernelspec": {
   "display_name": "Python 3 (ipykernel)",
   "language": "python",
   "name": "python3"
  },
  "language_info": {
   "codemirror_mode": {
    "name": "ipython",
    "version": 3
   },
   "file_extension": ".py",
   "mimetype": "text/x-python",
   "name": "python",
   "nbconvert_exporter": "python",
   "pygments_lexer": "ipython3",
   "version": "3.8.8"
  }
 },
 "nbformat": 4,
 "nbformat_minor": 5
}
