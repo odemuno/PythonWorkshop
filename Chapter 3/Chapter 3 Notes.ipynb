{
 "cells": [
  {
   "cell_type": "markdown",
   "id": "655af3d5-3d58-4720-9c83-c98f9750ecf4",
   "metadata": {},
   "source": [
    "# Chapter 3: Executing Python - Programs, Algorithms, Functions\n",
    "- **script**: a file designed to be executed from the command line (.py)\n",
    "- **module**: imported into another part of the code to be executed"
   ]
  },
  {
   "cell_type": "code",
   "execution_count": 2,
   "id": "80028847-97ea-4875-9c85-a54b16790a03",
   "metadata": {},
   "outputs": [
    {
     "name": "stdout",
     "output_type": "stream",
     "text": [
      "39921960\n"
     ]
    }
   ],
   "source": [
    "# running a python script -- has to be in the same folder as this notebook\n",
    "%run my_script.py"
   ]
  },
  {
   "cell_type": "code",
   "execution_count": 3,
   "id": "951f7af7-2bd8-4966-aa89-f32e1b30ba0b",
   "metadata": {},
   "outputs": [
    {
     "data": {
      "text/plain": [
       "[120, 5040, 39916800]"
      ]
     },
     "execution_count": 3,
     "metadata": {},
     "output_type": "execute_result"
    }
   ],
   "source": [
    "# writing a module\n",
    "from my_module import compute\n",
    "compute([5,7,11])"
   ]
  },
  {
   "cell_type": "markdown",
   "id": "99cd9c70-7198-4a69-bce1-bfc2ae51092d",
   "metadata": {},
   "source": [
    "## Shebangs in ubuntu\n",
    "The first like of a python script: `#!/usr/bin/env python` (can ignore if using windows)\n",
    "\n",
    "This path specifies the profram that the computer should use to execute the file.\n",
    "- you either have to tell the command prompt: `python myapp.py`\n",
    "- or you use a shebang: `./myapp.py` (ubuntu, macOS)"
   ]
  },
  {
   "cell_type": "markdown",
   "id": "d6b4a4f1-92ed-4cb3-834f-2dc92480f1a6",
   "metadata": {},
   "source": [
    "## Docstrings"
   ]
  },
  {
   "cell_type": "code",
   "execution_count": 5,
   "id": "118861b8-accd-4070-b419-db1e21171dd1",
   "metadata": {},
   "outputs": [
    {
     "name": "stdout",
     "output_type": "stream",
     "text": [
      "Help on module my_module:\n",
      "\n",
      "NAME\n",
      "    my_module - Find factorial of three numbers & prints out result of computation\n",
      "\n",
      "FUNCTIONS\n",
      "    compute(numbers)\n",
      "\n",
      "FILE\n",
      "    /Users/odemunoogelohwohor/Documents/GitHub/PythonWorkshop/Chapter 3/my_module.py\n",
      "\n",
      "\n"
     ]
    }
   ],
   "source": [
    "import my_module\n",
    "\n",
    "# call the help function on my_module to view the string\n",
    "help(my_module)"
   ]
  },
  {
   "cell_type": "code",
   "execution_count": 6,
   "id": "133becb1-3344-4053-9e73-7f3fc3791221",
   "metadata": {},
   "outputs": [
    {
     "data": {
      "text/plain": [
       "'\\nFind factorial of three numbers & prints out result of computation\\n'"
      ]
     },
     "execution_count": 6,
     "metadata": {},
     "output_type": "execute_result"
    }
   ],
   "source": [
    "my_module.__doc__"
   ]
  },
  {
   "cell_type": "markdown",
   "id": "a0de1ab1-53bc-48ad-89c3-7260445b1d10",
   "metadata": {},
   "source": [
    "## Imports\n",
    "- `import math`\n",
    "- `from math import exp`\n",
    "- `from math import *` (generally avoided becuaseyou do not want references to clash)\n",
    "- `from math import exp as exponential`"
   ]
  },
  {
   "cell_type": "code",
   "execution_count": 7,
   "id": "2b070717-9223-4a87-abd8-979a2b550ec0",
   "metadata": {},
   "outputs": [
    {
     "name": "stdout",
     "output_type": "stream",
     "text": [
      "2022-04-21\n"
     ]
    }
   ],
   "source": [
    "# write a script that prints out the current system date\n",
    "%run today.py"
   ]
  },
  {
   "cell_type": "code",
   "execution_count": null,
   "id": "ff146926-cc4d-4a32-8557-e103e5d521ca",
   "metadata": {},
   "outputs": [],
   "source": [
    "# The if __name__ == \"__main__\" statement: used to import objects from the script as if it was a regular module"
   ]
  },
  {
   "cell_type": "markdown",
   "id": "7cd3fb7a-c3fd-43c1-ab10-00c17f5afe11",
   "metadata": {},
   "source": [
    "### Activity 8: What's The Time?\n",
    "This activity was quite confusing."
   ]
  },
  {
   "cell_type": "code",
   "execution_count": 22,
   "id": "88e73c99-20c7-4c71-97a6-cfd160c12c21",
   "metadata": {},
   "outputs": [
    {
     "name": "stdout",
     "output_type": "stream",
     "text": [
      "16:27:22.539217\n"
     ]
    }
   ],
   "source": [
    "# execute script from command prompt to see if it prints the time\n",
    "%run current_time.py"
   ]
  },
  {
   "cell_type": "code",
   "execution_count": 23,
   "id": "96fa8662-52da-4532-8f7f-380a7b3e7a28",
   "metadata": {},
   "outputs": [
    {
     "data": {
      "text/plain": [
       "datetime.datetime(2022, 4, 21, 16, 23, 7, 806944)"
      ]
     },
     "execution_count": 23,
     "metadata": {},
     "output_type": "execute_result"
    }
   ],
   "source": [
    "# import into python console \n",
    "from current_time import curr_time # from script import variable\n",
    "curr_time"
   ]
  },
  {
   "cell_type": "markdown",
   "id": "a7ae80ca-d434-4003-a6a3-46825b0cf14f",
   "metadata": {},
   "source": [
    "## Time Complexity\n",
    "- The relationship between the size of the problem and the steps taken.\n",
    "- Count the number of operations required to execute the algorithm (express in big-O notation)\n",
    "    - O(n) means that for a problem of size n, the number of steps taken is proportional to n: can be expressed as a*n + b\n",
    "    - O(1) constant time\n",
    "    - O(n^2) quadratic time - bubble sort algorithm\n",
    "    - O(log n) logarithmic time - binary search algorithm"
   ]
  },
  {
   "cell_type": "code",
   "execution_count": 31,
   "id": "7c917037-5940-4232-a73f-61aaf1c9e364",
   "metadata": {},
   "outputs": [
    {
     "name": "stdout",
     "output_type": "stream",
     "text": [
      "21\n"
     ]
    }
   ],
   "source": [
    "# pseudocode for the maximum number from a list\n",
    "# create a list\n",
    "my_list = [3, 18, 2, 21]\n",
    "\n",
    "# set max number to 0\n",
    "max_num = 0\n",
    "total_steps = 1 # first step for time complexity\n",
    "\n",
    "# check to see if one number is greater than the next\n",
    "for num in my_list:\n",
    "    n = len(my_list) # each loop as a step for time complexity\n",
    "    if num > max_num: # A: one step for a new number\n",
    "        max_num = num # B: another step for a new numner\n",
    "        # since a new number may take step A or A&B, do the average --> C\n",
    "    \n",
    "# print result\n",
    "print(max_num)\n",
    "# time complexity = 1 + C*n --> O(n) linear function"
   ]
  },
  {
   "cell_type": "markdown",
   "id": "3ff7e81f-b692-4f30-8ef2-95dbfe9cca19",
   "metadata": {},
   "source": [
    "## Sorting Algorithms\n",
    "- the output must satisfy:\n",
    "    - must be non-decreasing : 1,2,3,etc or 1,1,3,10,etc\n",
    "    - must be a permutation of the input : input elements must be rearranged and not altered"
   ]
  },
  {
   "cell_type": "markdown",
   "id": "7a811271-ea86-4f60-835f-a7513a14958f",
   "metadata": {},
   "source": [
    "### Bubble Sort [O(n^2)] \n",
    "> Simple but inefficient\n",
    "- start with first two elements\n",
    "    - if the 1st is larger than the 2nd, swap them\n",
    "- then move to next two elements and check\n",
    "- keep ddoing this until you reach the final pair\n",
    "- go back to start of the list and repeat untill no further swaps are required"
   ]
  },
  {
   "cell_type": "code",
   "execution_count": 41,
   "id": "f2d67bbb-9d36-4b1d-8dc0-97f99af7f00f",
   "metadata": {},
   "outputs": [
    {
     "data": {
      "text/plain": [
       "[1, 2, 3, 5, 8]"
      ]
     },
     "execution_count": 41,
     "metadata": {},
     "output_type": "execute_result"
    }
   ],
   "source": [
    "from sort_algorithms import bubblesort\n",
    "\n",
    "bubblesort([5,8,1,3,2])"
   ]
  },
  {
   "cell_type": "markdown",
   "id": "a2867ffd-39ae-4456-adf8-686318021a94",
   "metadata": {},
   "source": [
    "## Searching Algorithms\n",
    "### Linear Search [O(n)]\n",
    "> Simple but inefficient\n",
    "- loop through all elements and check them against your search criteria"
   ]
  },
  {
   "cell_type": "code",
   "execution_count": 51,
   "id": "b4c0c2cb-54db-49b2-bfad-aae57adad3b5",
   "metadata": {},
   "outputs": [
    {
     "data": {
      "text/plain": [
       "4"
      ]
     },
     "execution_count": 51,
     "metadata": {},
     "output_type": "execute_result"
    }
   ],
   "source": [
    "from search_algorithms import linearsearch\n",
    "\n",
    "linearsearch([5,8,1,3,2], 2)"
   ]
  },
  {
   "cell_type": "markdown",
   "id": "54b263ce-6cc4-4755-8b0e-ccb47e5edd08",
   "metadata": {},
   "source": [
    "## Binary Search\n",
    "> takes a sorted array and finds the position of the target value\n",
    "- take the midpoint of the list\n",
    "    - if this is less than target, discard left half of the list\n",
    "    - if it is greater, restrict searching to right of list\n",
    "- repeat process with side of the list that remains; pick midpoint and discard until you find the value you are searching for"
   ]
  },
  {
   "cell_type": "code",
   "execution_count": 1,
   "id": "a9cbb3b2-d939-4773-93e7-5cece63c76ae",
   "metadata": {},
   "outputs": [
    {
     "name": "stdout",
     "output_type": "stream",
     "text": [
      "True\n",
      "4\n"
     ]
    }
   ],
   "source": [
    "from search_algorithms import binarysearch\n",
    "\n",
    "found, mid = binarysearch([2,3,5,8,11,12,18], 11)\n",
    "print(found)\n",
    "print(mid)"
   ]
  },
  {
   "cell_type": "code",
   "execution_count": 2,
   "id": "47dbd0f0-6ab3-41e4-86ae-a56ae42eeded",
   "metadata": {},
   "outputs": [
    {
     "name": "stdout",
     "output_type": "stream",
     "text": [
      "Help on module search_algorithms:\n",
      "\n",
      "NAME\n",
      "    search_algorithms - This script runs search algorithms for a list\n",
      "\n",
      "FUNCTIONS\n",
      "    binarysearch(l, s)\n",
      "    \n",
      "    linearsearch(l, s)\n",
      "\n",
      "FILE\n",
      "    /Users/odemunoogelohwohor/Documents/GitHub/PythonWorkshop/Chapter 3/search_algorithms.py\n",
      "\n",
      "\n"
     ]
    }
   ],
   "source": [
    "import search_algorithms\n",
    "help(search_algorithms)"
   ]
  },
  {
   "cell_type": "markdown",
   "id": "02c9b581-1b76-434c-be97-4028d62076fa",
   "metadata": {},
   "source": [
    "## Basic Functions\n",
    "> a function is a reusable piece of code that only runs when it is called"
   ]
  },
  {
   "cell_type": "code",
   "execution_count": 3,
   "id": "92e9af00-d708-4c67-a237-55fc465621a6",
   "metadata": {},
   "outputs": [
    {
     "data": {
      "text/plain": [
       "5"
      ]
     },
     "execution_count": 3,
     "metadata": {},
     "output_type": "execute_result"
    }
   ],
   "source": [
    "# defining and calling the function in shell\n",
    "''' this function returns the second element of a list if it exists'''\n",
    "\n",
    "def get_second_element(mylist):\n",
    "    if len(mylist) > 1:\n",
    "        return mylist[1]\n",
    "    else:\n",
    "        return 'List was too small'\n",
    "\n",
    "get_second_element([3,5,2])"
   ]
  },
  {
   "cell_type": "code",
   "execution_count": 4,
   "id": "2b9f35d9-13fd-4d1d-9b73-20791911de9c",
   "metadata": {},
   "outputs": [
    {
     "data": {
      "text/plain": [
       "'List was too small'"
      ]
     },
     "execution_count": 4,
     "metadata": {},
     "output_type": "execute_result"
    }
   ],
   "source": [
    "get_second_element([1])"
   ]
  },
  {
   "cell_type": "markdown",
   "id": "90d58bf9-f968-40e4-93ed-c33a64ac728c",
   "metadata": {},
   "source": [
    "## Positional Arguments\n",
    "> the first value you pass in will be assigned to x and thee second assigned to y"
   ]
  },
  {
   "cell_type": "code",
   "execution_count": 13,
   "id": "14d4f430-5b2d-49a9-ae54-182b63365f0d",
   "metadata": {},
   "outputs": [
    {
     "data": {
      "text/plain": [
       "5"
      ]
     },
     "execution_count": 13,
     "metadata": {},
     "output_type": "execute_result"
    }
   ],
   "source": [
    "def add_up(x,y):\n",
    "    return x+y\n",
    "\n",
    "add_up(2,3)"
   ]
  },
  {
   "cell_type": "markdown",
   "id": "4db3b0a1-6c41-45b3-adb0-f9f9af7a7c9a",
   "metadata": {},
   "source": [
    "## Keyword/Named Arguments\n",
    "> these arguments have a default value that is taken when the function is called without a specified keyword "
   ]
  },
  {
   "cell_type": "code",
   "execution_count": 10,
   "id": "451794c6-af68-4ece-8d51-4e5f7e49691d",
   "metadata": {},
   "outputs": [
    {
     "data": {
      "text/plain": [
       "'google.com'"
      ]
     },
     "execution_count": 10,
     "metadata": {},
     "output_type": "execute_result"
    }
   ],
   "source": [
    "def add_suffix(suffix=\".com\"):\n",
    "    return \"google\" + suffix\n",
    "\n",
    "add_suffix()"
   ]
  },
  {
   "cell_type": "code",
   "execution_count": 6,
   "id": "784672d2-6cd6-457e-8774-50e96d62ffe7",
   "metadata": {},
   "outputs": [
    {
     "data": {
      "text/plain": [
       "'google.co.uk'"
      ]
     },
     "execution_count": 6,
     "metadata": {},
     "output_type": "execute_result"
    }
   ],
   "source": [
    "add_suffix(\".co.uk\")"
   ]
  },
  {
   "cell_type": "code",
   "execution_count": 7,
   "id": "acc27e0c-7366-492f-abea-134c5e2871ba",
   "metadata": {},
   "outputs": [
    {
     "data": {
      "text/plain": [
       "133.33333333333334"
      ]
     },
     "execution_count": 7,
     "metadata": {},
     "output_type": "execute_result"
    }
   ],
   "source": [
    "def convert_usd_to_aud(amount, rate=0.75):\n",
    "    return amount/rate\n",
    "\n",
    "convert_usd_to_aud(100)"
   ]
  },
  {
   "cell_type": "code",
   "execution_count": 8,
   "id": "201f6cba-cebe-4a23-8d8c-29c7a520f3ab",
   "metadata": {},
   "outputs": [
    {
     "data": {
      "text/plain": [
       "128.2051282051282"
      ]
     },
     "execution_count": 8,
     "metadata": {},
     "output_type": "execute_result"
    }
   ],
   "source": [
    "convert_usd_to_aud(100, rate=0.78)"
   ]
  },
  {
   "cell_type": "code",
   "execution_count": null,
   "id": "441cd5a9-6637-4d98-a614-ff04ecf381b8",
   "metadata": {},
   "outputs": [],
   "source": [
    "convert_usd_to_aud(100, 0.78)"
   ]
  },
  {
   "cell_type": "markdown",
   "id": "6c9bbf93-c6c3-4478-80a5-36284fccf356",
   "metadata": {},
   "source": [
    "## **kwargs dictionary\n",
    "> allows the function to accept any keyword arguments"
   ]
  },
  {
   "cell_type": "code",
   "execution_count": 14,
   "id": "3588396b-b520-4e26-9d25-a4ece1f5c945",
   "metadata": {},
   "outputs": [
    {
     "name": "stdout",
     "output_type": "stream",
     "text": [
      "5.0\n"
     ]
    }
   ],
   "source": [
    "def convert_usd_to_aud(amount, rate=0.75):\n",
    "    return amount/rate\n",
    "\n",
    "def convert_and_sum_list_kwargs(usd_list, **kwargs):\n",
    "    total = 0\n",
    "    for amount in usd_list:\n",
    "        total += convert_usd_to_aud(amount, **kwargs)\n",
    "    return total\n",
    "\n",
    "print(convert_and_sum_list_kwargs([1,3], rate=0.8))"
   ]
  },
  {
   "cell_type": "markdown",
   "id": "e9db7139-3d6e-4839-a4d9-7aeaf7f8ff88",
   "metadata": {},
   "source": [
    "### Activity 9: Formatting Customer Names\n"
   ]
  },
  {
   "cell_type": "code",
   "execution_count": 1,
   "id": "4668fb09-06b6-4387-b9ef-38cc08c0597d",
   "metadata": {},
   "outputs": [
    {
     "data": {
      "text/plain": [
       "'John Smith (California)'"
      ]
     },
     "execution_count": 1,
     "metadata": {},
     "output_type": "execute_result"
    }
   ],
   "source": [
    "from customer import format_customer\n",
    "\n",
    "format_customer('John', 'Smith', location='California')"
   ]
  },
  {
   "cell_type": "code",
   "execution_count": 2,
   "id": "d50207dc-c9bc-4974-b42c-ddef9c16e7a9",
   "metadata": {},
   "outputs": [
    {
     "data": {
      "text/plain": [
       "'Kim Smith (Atlanta)'"
      ]
     },
     "execution_count": 2,
     "metadata": {},
     "output_type": "execute_result"
    }
   ],
   "source": [
    "format_customer('Kim', 'Smith', location='Atlanta')"
   ]
  },
  {
   "cell_type": "code",
   "execution_count": 3,
   "id": "496fdb83-44d3-4afc-8a3d-e6d3a2447632",
   "metadata": {},
   "outputs": [
    {
     "data": {
      "text/plain": [
       "'John Smith'"
      ]
     },
     "execution_count": 3,
     "metadata": {},
     "output_type": "execute_result"
    }
   ],
   "source": [
    "format_customer('John', 'Smith')"
   ]
  },
  {
   "cell_type": "markdown",
   "id": "ace11ba8-1bb5-4069-8da4-9426a27710a8",
   "metadata": {},
   "source": [
    "### Activity 10: The Fibonacci Function with an Iteration\n",
    "The sum of the two preceding numbers is the next \n",
    "> 0,1,1,2,3,5,8,13, etc\n"
   ]
  },
  {
   "cell_type": "code",
   "execution_count": null,
   "id": "082cb60a-35d3-42ee-b5eb-5525c5728746",
   "metadata": {},
   "outputs": [],
   "source": []
  }
 ],
 "metadata": {
  "kernelspec": {
   "display_name": "Python 3 (ipykernel)",
   "language": "python",
   "name": "python3"
  },
  "language_info": {
   "codemirror_mode": {
    "name": "ipython",
    "version": 3
   },
   "file_extension": ".py",
   "mimetype": "text/x-python",
   "name": "python",
   "nbconvert_exporter": "python",
   "pygments_lexer": "ipython3",
   "version": "3.8.8"
  }
 },
 "nbformat": 4,
 "nbformat_minor": 5
}
