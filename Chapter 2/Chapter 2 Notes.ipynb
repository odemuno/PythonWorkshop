{
 "cells": [
  {
   "cell_type": "markdown",
   "id": "e6a1314a-5958-4c5c-bd64-dcf96a67ef99",
   "metadata": {},
   "source": [
    "# Chapter 2: Python Structures\n",
    "Python data structures: lists, tuples, dictionaries, sets."
   ]
  },
  {
   "cell_type": "markdown",
   "id": "09ad4a59-adf3-4184-8bde-5af343cf3849",
   "metadata": {},
   "source": [
    "## Lists\n",
    "- A container that can store multiple data sets at the same time\n",
    "- Written using []\n",
    "- Compared to arrays in other languages but does more\n",
    "- Different from arrays in Java and C# because in python, lists can have mixed types (int and str)\n",
    "- Elements have a finite sequence"
   ]
  },
  {
   "cell_type": "code",
   "execution_count": 2,
   "id": "242cc700-8bc5-4b3f-a522-7355f12d9969",
   "metadata": {},
   "outputs": [
    {
     "name": "stdout",
     "output_type": "stream",
     "text": [
      "['bread', 'milk', 'eggs']\n"
     ]
    }
   ],
   "source": [
    "shopping = [\"bread\", \"milk\", \"eggs\"]\n",
    "print(shopping)"
   ]
  },
  {
   "cell_type": "code",
   "execution_count": 3,
   "id": "f842dd52-6b12-41f7-997a-6b22ba0758b8",
   "metadata": {},
   "outputs": [
    {
     "name": "stdout",
     "output_type": "stream",
     "text": [
      "[365, 'days', True]\n"
     ]
    }
   ],
   "source": [
    "mixed = [365, \"days\", True]\n",
    "print(mixed)"
   ]
  },
  {
   "cell_type": "code",
   "execution_count": 5,
   "id": "84663cbb-2076-47f9-8829-0511c40541c1",
   "metadata": {},
   "outputs": [
    {
     "name": "stdout",
     "output_type": "stream",
     "text": [
      "[[1, 2, 3], [4, 5, 6]]\n",
      "5\n"
     ]
    }
   ],
   "source": [
    "# Nested List, a way to represent 3D data\n",
    "m = [[1,2,3], [4,5,6]]\n",
    "print(m)\n",
    "print(m[1][1])"
   ]
  },
  {
   "cell_type": "markdown",
   "id": "2f8c5efa-2eed-481a-bd11-e9aba0f9a23a",
   "metadata": {},
   "source": [
    "### Activity 6: Nested List to store employee data"
   ]
  },
  {
   "cell_type": "code",
   "execution_count": 7,
   "id": "4d94ea43-c625-4252-8070-fb2e22e7880a",
   "metadata": {},
   "outputs": [
    {
     "name": "stdout",
     "output_type": "stream",
     "text": [
      "[['john mckee', 38, 'sales'], ['lisa crawford', 29, 'marketing'], ['sujan patel', 33, 'HR']]\n"
     ]
    }
   ],
   "source": [
    "employees = [['john mckee', 38, 'sales'], ['lisa crawford', 29, 'marketing'], ['sujan patel', 33, 'HR']]\n",
    "print(employees)"
   ]
  },
  {
   "cell_type": "code",
   "execution_count": 9,
   "id": "dbfb8abf-c60c-4409-a511-2b83854d8cb5",
   "metadata": {},
   "outputs": [
    {
     "name": "stdout",
     "output_type": "stream",
     "text": [
      "['john mckee', 38, 'sales']\n",
      "['lisa crawford', 29, 'marketing']\n",
      "['sujan patel', 33, 'HR']\n"
     ]
    }
   ],
   "source": [
    "for i in range(len(employees)): # for employee in employees\n",
    "    print(employees[i])"
   ]
  },
  {
   "cell_type": "code",
   "execution_count": 12,
   "id": "96e851e3-4b8c-49bc-a2ef-b47fa5c2ef2f",
   "metadata": {},
   "outputs": [
    {
     "name": "stdout",
     "output_type": "stream",
     "text": [
      "Name: john mckee\n",
      "Age: 38\n",
      "Department: sales\n",
      "--------------------\n",
      "Name: lisa crawford\n",
      "Age: 29\n",
      "Department: marketing\n",
      "--------------------\n",
      "Name: sujan patel\n",
      "Age: 33\n",
      "Department: HR\n",
      "--------------------\n"
     ]
    }
   ],
   "source": [
    "# present data in a structured format\n",
    "for employee in employees:\n",
    "    print(\"Name:\", employee[0])\n",
    "    print(\"Age:\", employee[1])\n",
    "    print(\"Department:\", employee[2])\n",
    "    print('-' * 20)"
   ]
  },
  {
   "cell_type": "code",
   "execution_count": 10,
   "id": "cab38261-ff63-4c9f-b83c-0385fced7a43",
   "metadata": {},
   "outputs": [
    {
     "name": "stdout",
     "output_type": "stream",
     "text": [
      "['lisa crawford', 29, 'marketing']\n",
      "Name: lisa crawford\n",
      "Age: 29\n",
      "Department: marketing\n"
     ]
    }
   ],
   "source": [
    "for i in range(len(employees)):\n",
    "    if employees[i][0].lower() == 'lisa crawford'.lower():\n",
    "        print(employees[i])\n",
    "        print(\"Name:\", employees[i][0])\n",
    "        print(\"Age:\", employees[i][1])\n",
    "        print(\"Department:\", employees[i][2])"
   ]
  },
  {
   "cell_type": "code",
   "execution_count": 13,
   "id": "d772238a-86eb-40fe-940c-b404379c90d8",
   "metadata": {},
   "outputs": [
    {
     "name": "stdout",
     "output_type": "stream",
     "text": [
      "[[11, 13, 15], [17, 19, 21], [23, 25, 27]]\n"
     ]
    }
   ],
   "source": [
    "# Matrix Operations\n",
    "X = [[1,2,3],[4,5,6],[7,8,9]]\n",
    "Y = [[10,11,12],[13,14,15],[16,17,18]]\n",
    "\n",
    "result = [[0,0,0],\n",
    "          [0,0,0],\n",
    "          [0,0,0]]\n",
    "\n",
    "# result = X + Y\n",
    "for i in range(len(X)): # iterate through rows\n",
    "    for j in range(len(X[0])): # iterate through columns\n",
    "        result[i][j] = X[i][j] + Y[i][j]\n",
    "\n",
    "print(result)\n",
    "    "
   ]
  },
  {
   "cell_type": "code",
   "execution_count": 22,
   "id": "6c0eb2c8-5ef5-4455-9d2a-51e0f097671a",
   "metadata": {},
   "outputs": [
    {
     "name": "stdout",
     "output_type": "stream",
     "text": [
      "['bread', 'milk', 'eggs', 'apple']\n",
      "['bread', 'milk', 'rice', 'eggs', 'apple']\n"
     ]
    }
   ],
   "source": [
    "# inserting & adding to a list\n",
    "shopping = [\"bread\", \"milk\", \"eggs\"]\n",
    "shopping.append(\"apple\")\n",
    "print(shopping)\n",
    "shopping.insert(2, \"rice\")\n",
    "print(shopping)"
   ]
  },
  {
   "cell_type": "markdown",
   "id": "083273f8-2534-4413-b91f-37463a95a40d",
   "metadata": {},
   "source": [
    "## Dictionaries\n",
    "- keys must be unique\n",
    "- keys are immutable (can be number, string, tuple)"
   ]
  },
  {
   "cell_type": "code",
   "execution_count": 25,
   "id": "e820624b-49a2-4cf8-864d-3d57e07e66c5",
   "metadata": {},
   "outputs": [
    {
     "name": "stdout",
     "output_type": "stream",
     "text": [
      "{'name': 'Jack Nelson', 'age': 32, 'department': 'sales'}\n"
     ]
    }
   ],
   "source": [
    "employee = {\n",
    "    'name': \"Jack Nelson\",\n",
    "    'age': 32,\n",
    "    'department': \"sales\"\n",
    "}\n",
    "\n",
    "print(employee)"
   ]
  },
  {
   "cell_type": "code",
   "execution_count": 27,
   "id": "c47b1a9b-daf5-416e-a5a8-1f2d579a02a1",
   "metadata": {},
   "outputs": [
    {
     "name": "stdout",
     "output_type": "stream",
     "text": [
      "1972\n",
      "7.5\n"
     ]
    }
   ],
   "source": [
    "'''\n",
    "Using dictonary to store a movie record\n",
    "'''\n",
    "\n",
    "movie = {\n",
    "    'title': \"The Godfather\",\n",
    "    'director': \"Francis Ford Coppola\",\n",
    "    'year': 1972,\n",
    "    'rating': 9.2\n",
    "}\n",
    "\n",
    "# access information using the key\n",
    "print(movie['year'])\n",
    "\n",
    "# update a dictionary value\n",
    "movie['rating'] = 75/10\n",
    "print(movie['rating'])"
   ]
  },
  {
   "cell_type": "markdown",
   "id": "568d0fbe-49e5-46be-8f77-cb65072fe2fb",
   "metadata": {
    "tags": []
   },
   "source": [
    "### Activity 7: Storing Company Employee Table using List and Dictionary"
   ]
  },
  {
   "cell_type": "code",
   "execution_count": 30,
   "id": "ceaf57f6-0829-4e8a-991f-9624e1bad21d",
   "metadata": {},
   "outputs": [
    {
     "name": "stdout",
     "output_type": "stream",
     "text": [
      "[{'name': 'john mckee', 'age': 38, 'department': 'sales'}, {'name': 'lisa crawford', 'age': 29, 'department': 'marketing'}, {'name': 'sujan patel', 'age': 33, 'department': 'HR'}]\n"
     ]
    }
   ],
   "source": [
    "# make a list named employees containing dictionary objects\n",
    "employees = [\n",
    "    {\n",
    "        'name': 'john mckee',\n",
    "        'age': 38,\n",
    "        'department': 'sales'\n",
    "    },\n",
    "    {\n",
    "        'name': 'lisa crawford',\n",
    "        'age': 29,\n",
    "        'department': 'marketing'\n",
    "    },\n",
    "    {\n",
    "        'name': 'sujan patel',\n",
    "        'age': 33,\n",
    "        'department': 'HR'\n",
    "    }\n",
    "]\n",
    "\n",
    "# print variable\n",
    "print(employees)"
   ]
  },
  {
   "cell_type": "code",
   "execution_count": 31,
   "id": "1adc1846-070c-49b5-8a14-f24e1eea8aca",
   "metadata": {},
   "outputs": [
    {
     "name": "stdout",
     "output_type": "stream",
     "text": [
      "Name:  john mckee\n",
      "Age:  38\n",
      "Department:  sales\n",
      "--------------------\n",
      "Name:  lisa crawford\n",
      "Age:  29\n",
      "Department:  marketing\n",
      "--------------------\n",
      "Name:  sujan patel\n",
      "Age:  33\n",
      "Department:  HR\n",
      "--------------------\n"
     ]
    }
   ],
   "source": [
    "# print in presentable form\n",
    "for employee in employees:\n",
    "    print(\"Name: \", employee['name'])\n",
    "    print(\"Age: \", employee['age'])\n",
    "    print(\"Department: \", employee['department'])\n",
    "    print(\"-\"*20)"
   ]
  },
  {
   "cell_type": "code",
   "execution_count": 33,
   "id": "0c7f11d9-f906-4e37-8d68-39592d737a76",
   "metadata": {},
   "outputs": [
    {
     "name": "stdout",
     "output_type": "stream",
     "text": [
      "Name:  sujan patel\n",
      "Age:  33\n",
      "Department:  HR\n"
     ]
    }
   ],
   "source": [
    "# print only sujan's info\n",
    "for employee in employees:\n",
    "    if employee['name'].lower()=='sujan patel'.lower():\n",
    "        print(\"Name: \", employee['name'])\n",
    "        print(\"Age: \", employee['age'])\n",
    "        print(\"Department: \", employee['department'])"
   ]
  },
  {
   "cell_type": "code",
   "execution_count": 38,
   "id": "fc1c6ccd-abb7-486d-a7f2-a581c60eb1e8",
   "metadata": {},
   "outputs": [
    {
     "name": "stdout",
     "output_type": "stream",
     "text": [
      "<zip object at 0x7fe19ecafbc0>\n"
     ]
    }
   ],
   "source": [
    "# Zipping and unzipping dictionaries\n",
    "'''\n",
    "The zip() method maps a similar index of multiple containers so they can be used as just a single object\n",
    "'''\n",
    "items = [\"apple\", \"orange\", \"banana\"]\n",
    "quantity = [5,3,2]\n",
    "orders = zip(items, quantity)\n",
    "print(orders)  # gives a zip object"
   ]
  },
  {
   "cell_type": "code",
   "execution_count": 41,
   "id": "73efb770-0e64-4a7a-9358-af256d74681e",
   "metadata": {},
   "outputs": [
    {
     "name": "stdout",
     "output_type": "stream",
     "text": [
      "[('apple', 5), ('orange', 3), ('banana', 2)]\n"
     ]
    }
   ],
   "source": [
    "orders = zip(items, quantity)\n",
    "print(list(orders)) # turns into a list"
   ]
  },
  {
   "cell_type": "code",
   "execution_count": 42,
   "id": "fbe2c19b-b4e4-4a82-b47a-a68bf02817ec",
   "metadata": {},
   "outputs": [
    {
     "name": "stdout",
     "output_type": "stream",
     "text": [
      "(('apple', 5), ('orange', 3), ('banana', 2))\n"
     ]
    }
   ],
   "source": [
    "orders = zip(items, quantity)\n",
    "print(tuple(orders)) # turns into a tuple"
   ]
  },
  {
   "cell_type": "code",
   "execution_count": 43,
   "id": "bd8c5111-1293-40c4-b211-24039c52504e",
   "metadata": {},
   "outputs": [
    {
     "name": "stdout",
     "output_type": "stream",
     "text": [
      "{'apple': 5, 'orange': 3, 'banana': 2}\n"
     ]
    }
   ],
   "source": [
    "orders = zip(items, quantity)\n",
    "print(dict(orders)) # turns into a dictionary"
   ]
  },
  {
   "cell_type": "code",
   "execution_count": 46,
   "id": "5380a8d6-a486-4c12-9f90-26d7f1b2faad",
   "metadata": {},
   "outputs": [
    {
     "name": "stdout",
     "output_type": "stream",
     "text": [
      "dict_values([5, 3, 2])\n",
      "[5, 3, 2]\n",
      "['apple', 'orange', 'banana']\n"
     ]
    }
   ],
   "source": [
    "'''\n",
    "Accessing a ductionary using dictionary methods\n",
    "'''\n",
    "orders = {'apple': 5, 'orange': 3, 'banana': 2}\n",
    "print(orders.values()) # returns an iterable object\n",
    "print(list(orders.values()))\n",
    "print(list(orders.keys()))"
   ]
  },
  {
   "cell_type": "code",
   "execution_count": 47,
   "id": "6e61a7c7-6465-46e7-98e0-aca8f53b5d9a",
   "metadata": {},
   "outputs": [
    {
     "name": "stdout",
     "output_type": "stream",
     "text": [
      "('apple', 5)\n",
      "('orange', 3)\n",
      "('banana', 2)\n"
     ]
    }
   ],
   "source": [
    "# convert to list of tuples to iterate in dictionary\n",
    "for tuple in list(orders.items()):\n",
    "    print(tuple)"
   ]
  },
  {
   "cell_type": "markdown",
   "id": "6ee1c3ad-64c1-4031-9a4e-de67378f0ff4",
   "metadata": {},
   "source": [
    "## Tuples\n",
    "- immutable: values cannot be changes after initialization\n",
    "- values will be the same throughout the runtime of the program"
   ]
  },
  {
   "cell_type": "code",
   "execution_count": 48,
   "id": "086b3e35-a61b-4f25-a1b3-57e81f88f96f",
   "metadata": {},
   "outputs": [
    {
     "name": "stdout",
     "output_type": "stream",
     "text": [
      "3\n"
     ]
    }
   ],
   "source": [
    "t = (\"bread\", \"milk\", \"eggs\")\n",
    "print(len(t))"
   ]
  },
  {
   "cell_type": "code",
   "execution_count": 49,
   "id": "cc766830-ae84-4867-9c92-88fb7581eba5",
   "metadata": {},
   "outputs": [
    {
     "ename": "AttributeError",
     "evalue": "'tuple' object has no attribute 'append'",
     "output_type": "error",
     "traceback": [
      "\u001b[0;31m---------------------------------------------------------------------------\u001b[0m",
      "\u001b[0;31mAttributeError\u001b[0m                            Traceback (most recent call last)",
      "\u001b[0;32m/var/folders/cf/28wm9krx5816hxprmj3lstxh0000gn/T/ipykernel_57094/2113287087.py\u001b[0m in \u001b[0;36m<module>\u001b[0;34m\u001b[0m\n\u001b[1;32m      1\u001b[0m \u001b[0;31m# tuples are immutable so you cannot append\u001b[0m\u001b[0;34m\u001b[0m\u001b[0;34m\u001b[0m\u001b[0;34m\u001b[0m\u001b[0m\n\u001b[0;32m----> 2\u001b[0;31m \u001b[0mt\u001b[0m\u001b[0;34m.\u001b[0m\u001b[0mappend\u001b[0m\u001b[0;34m(\u001b[0m\u001b[0;34m\"apple\"\u001b[0m\u001b[0;34m)\u001b[0m\u001b[0;34m\u001b[0m\u001b[0;34m\u001b[0m\u001b[0m\n\u001b[0m",
      "\u001b[0;31mAttributeError\u001b[0m: 'tuple' object has no attribute 'append'"
     ]
    }
   ],
   "source": [
    "# tuples are immutable so you cannot append\n",
    "t.append(\"apple\")"
   ]
  },
  {
   "cell_type": "code",
   "execution_count": 50,
   "id": "5ff3589c-9efa-4d8a-8700-41e4272c3dd2",
   "metadata": {},
   "outputs": [
    {
     "ename": "TypeError",
     "evalue": "'tuple' object does not support item assignment",
     "output_type": "error",
     "traceback": [
      "\u001b[0;31m---------------------------------------------------------------------------\u001b[0m",
      "\u001b[0;31mTypeError\u001b[0m                                 Traceback (most recent call last)",
      "\u001b[0;32m/var/folders/cf/28wm9krx5816hxprmj3lstxh0000gn/T/ipykernel_57094/3114723266.py\u001b[0m in \u001b[0;36m<module>\u001b[0;34m\u001b[0m\n\u001b[0;32m----> 1\u001b[0;31m \u001b[0mt\u001b[0m\u001b[0;34m[\u001b[0m\u001b[0;36m2\u001b[0m\u001b[0;34m]\u001b[0m \u001b[0;34m=\u001b[0m \u001b[0;34m\"apple\"\u001b[0m\u001b[0;34m\u001b[0m\u001b[0;34m\u001b[0m\u001b[0m\n\u001b[0m",
      "\u001b[0;31mTypeError\u001b[0m: 'tuple' object does not support item assignment"
     ]
    }
   ],
   "source": [
    "t[2] = \"apple\""
   ]
  },
  {
   "cell_type": "code",
   "execution_count": 51,
   "id": "20f40e53-7f1f-40c3-b9f2-c99c974d963e",
   "metadata": {},
   "outputs": [
    {
     "name": "stdout",
     "output_type": "stream",
     "text": [
      "('bread', 'milk', 'eggs', 'apple', 'orange')\n"
     ]
    }
   ],
   "source": [
    "# the only way you can add to a tuple is by concatenation\n",
    "print(t + (\"apple\", \"orange\"))"
   ]
  },
  {
   "cell_type": "code",
   "execution_count": 52,
   "id": "728f0112-5b1c-42a8-8fa4-8a3bdbae4a83",
   "metadata": {},
   "outputs": [
    {
     "name": "stdout",
     "output_type": "stream",
     "text": [
      "('apple', 1, True)\n"
     ]
    }
   ],
   "source": [
    "t_mixed = \"apple\", 1, True\n",
    "print(t_mixed)"
   ]
  },
  {
   "cell_type": "markdown",
   "id": "0ada356a-4229-49b2-b69d-7f367f055a29",
   "metadata": {},
   "source": [
    "## Sets\n",
    "- unordered collection of unique, mutable/immutable objects\n",
    "- used to prevent duplicate values"
   ]
  },
  {
   "cell_type": "code",
   "execution_count": 2,
   "id": "a265af04-2930-4772-92ca-13278c106c5b",
   "metadata": {},
   "outputs": [
    {
     "name": "stdout",
     "output_type": "stream",
     "text": [
      "{1, 2, 3, 4, 5, 6}\n",
      "{1, 2, 3, 4, 5, 6}\n",
      "{1, 2, 3, 4, 5, 6}\n"
     ]
    }
   ],
   "source": [
    "s1 = set([1,2,3,4,5,6])\n",
    "print(s1)\n",
    "s2 = set([1,2,2,3,4,4,5,6,6])\n",
    "print(s2)\n",
    "s3 = set([3,4,5,6,6,6,1,1,2])\n",
    "print(s3)"
   ]
  },
  {
   "cell_type": "code",
   "execution_count": 3,
   "id": "d8db676a-e718-4062-9100-9c438f347bbd",
   "metadata": {},
   "outputs": [
    {
     "name": "stdout",
     "output_type": "stream",
     "text": [
      "{'apple', 'orange', 'banana'}\n"
     ]
    },
    {
     "data": {
      "text/plain": [
       "'\\nPython store set elements in optimized way so that it can apply operations with lesser runtime complexity \\ni.e. less number of iterations will required in Union/Intersection by Python internally.\\n\\n'"
      ]
     },
     "execution_count": 3,
     "metadata": {},
     "output_type": "execute_result"
    }
   ],
   "source": [
    "s4 = {\"apple\", \"orange\", \"banana\"}\n",
    "print(s4)\n",
    "\n",
    "'''\n",
    "Python store set elements in optimized way so that it can apply operations with lesser runtime complexity \n",
    "i.e. less number of iterations will required in Union/Intersection by Python internally.\n",
    "\n",
    "'''"
   ]
  },
  {
   "cell_type": "code",
   "execution_count": 4,
   "id": "893f8ad9-2a70-4d26-a4fa-b25015c29775",
   "metadata": {},
   "outputs": [
    {
     "name": "stdout",
     "output_type": "stream",
     "text": [
      "{'pineapple', 'apple', 'orange', 'banana'}\n"
     ]
    }
   ],
   "source": [
    "# mutable set\n",
    "s4.add(\"pineapple\")\n",
    "print(s4)"
   ]
  },
  {
   "cell_type": "code",
   "execution_count": 5,
   "id": "ba8f38fb-d3b4-4292-891b-af5dde6c2612",
   "metadata": {},
   "outputs": [
    {
     "name": "stdout",
     "output_type": "stream",
     "text": [
      "{1, 2, 3, 4, 5, 6}\n",
      "{1, 2, 3, 4, 5, 6}\n"
     ]
    }
   ],
   "source": [
    "# Set Operations\n",
    "s5 = {1,2,3,4}\n",
    "s6 = {3,4,5,6}\n",
    "\n",
    "# union\n",
    "print(s5 | s6)\n",
    "print(s5.union(s6))"
   ]
  },
  {
   "cell_type": "code",
   "execution_count": 6,
   "id": "13f147e0-56f7-482e-b3dd-d3a1904dcfef",
   "metadata": {},
   "outputs": [
    {
     "name": "stdout",
     "output_type": "stream",
     "text": [
      "{3, 4}\n",
      "{3, 4}\n"
     ]
    }
   ],
   "source": [
    "# intersection\n",
    "print(s5 & s6)\n",
    "print(s5.intersection(s6))"
   ]
  },
  {
   "cell_type": "code",
   "execution_count": 7,
   "id": "5f76f28f-57b9-4e6e-b4b8-00fdd3f39e14",
   "metadata": {},
   "outputs": [
    {
     "name": "stdout",
     "output_type": "stream",
     "text": [
      "{1, 2}\n",
      "{1, 2}\n"
     ]
    }
   ],
   "source": [
    "# difference\n",
    "'''\n",
    "the difference between set A and B is the set of all elements of A\n",
    "that are not present in B\n",
    "'''\n",
    "print(s5 - s6)\n",
    "print(s5.difference(s6))"
   ]
  },
  {
   "cell_type": "code",
   "execution_count": 8,
   "id": "c55e17d6-2c23-4137-bde2-2959ef25adf5",
   "metadata": {},
   "outputs": [
    {
     "name": "stdout",
     "output_type": "stream",
     "text": [
      "False\n",
      "False\n",
      "True\n",
      "True\n"
     ]
    }
   ],
   "source": [
    "# issubset method : general subset\n",
    "print(s5 <= s6)\n",
    "print(s5.issubset(s6))\n",
    "s7 = {1,2,3}\n",
    "s8 = {1,2,3,4,5}\n",
    "print(s7 <= s8)\n",
    "print(s7.issubset(s8))"
   ]
  },
  {
   "cell_type": "code",
   "execution_count": 9,
   "id": "722e7fe4-fe20-4703-a985-ed7d27e00402",
   "metadata": {},
   "outputs": [
    {
     "name": "stdout",
     "output_type": "stream",
     "text": [
      "True\n",
      "False\n",
      "False\n"
     ]
    }
   ],
   "source": [
    "# proper/formal ssubset\n",
    "''' a proper subset is a subset where the sets cannot be identical'''\n",
    "print(s7 < s8)\n",
    "s9 = {1,2,3}\n",
    "s10 = {1,2,3}\n",
    "print(s9 < s10) # proper subset cannot be identical\n",
    "print(s9 < s9) # a set cannot be a proper subset of itself"
   ]
  },
  {
   "cell_type": "code",
   "execution_count": 10,
   "id": "23265e1c-e11a-4912-bf55-83ebfa371b87",
   "metadata": {},
   "outputs": [
    {
     "name": "stdout",
     "output_type": "stream",
     "text": [
      "True\n",
      "True\n",
      "True\n",
      "False\n"
     ]
    }
   ],
   "source": [
    "# superset\n",
    "print(s8 >= s7)\n",
    "print(s8.issuperset(s7))\n",
    "print(s8 > s7)\n",
    "print(s8 > s8)"
   ]
  },
  {
   "cell_type": "markdown",
   "id": "d4e3589e-3621-4f35-8aa5-782d0febfaf5",
   "metadata": {},
   "source": [
    "## Summary\n",
    "- list: store multiple objects, retain a sequence\n",
    "- dictionary: store uniqye ket-value pair mappings\n",
    "- tuples: immutable\n",
    "- sets: store unique elements"
   ]
  },
  {
   "cell_type": "code",
   "execution_count": null,
   "id": "394fde20-75d7-4b08-bccf-a98fdf568b41",
   "metadata": {},
   "outputs": [],
   "source": []
  }
 ],
 "metadata": {
  "kernelspec": {
   "display_name": "Python 3 (ipykernel)",
   "language": "python",
   "name": "python3"
  },
  "language_info": {
   "codemirror_mode": {
    "name": "ipython",
    "version": 3
   },
   "file_extension": ".py",
   "mimetype": "text/x-python",
   "name": "python",
   "nbconvert_exporter": "python",
   "pygments_lexer": "ipython3",
   "version": "3.8.8"
  }
 },
 "nbformat": 4,
 "nbformat_minor": 5
}
